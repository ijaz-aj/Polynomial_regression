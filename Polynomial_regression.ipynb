{
 "cells": [
  {
   "cell_type": "code",
   "execution_count": 2,
   "id": "3ecdf77f",
   "metadata": {},
   "outputs": [],
   "source": [
    "## Import libraries\n",
    "import numpy as np\n",
    "import matplotlib.pyplot as plt\n",
    "import pandas as pd\n"
   ]
  },
  {
   "cell_type": "code",
   "execution_count": 3,
   "id": "48de2cde",
   "metadata": {},
   "outputs": [],
   "source": [
    "X = 6 * np.random.rand(100, 1) - 3 \n",
    "y = 0.5 * X**2 + 1.5 * X + 2 + np.random.randn(100, 1)"
   ]
  },
  {
   "cell_type": "code",
   "execution_count": 4,
   "id": "2b58d2ab",
   "metadata": {},
   "outputs": [],
   "source": [
    "n = np.random.randn(100, 1)"
   ]
  },
  {
   "cell_type": "code",
   "execution_count": 5,
   "id": "581276f1",
   "metadata": {},
   "outputs": [
    {
     "data": {
      "text/plain": [
       "array([[-1.04320428],\n",
       "       [ 0.14772096],\n",
       "       [ 0.28143399],\n",
       "       [ 0.06811834],\n",
       "       [-0.58280803],\n",
       "       [ 0.69069223],\n",
       "       [ 0.98724058],\n",
       "       [-0.07485691],\n",
       "       [-1.95653592],\n",
       "       [ 0.24455186],\n",
       "       [ 0.85936304],\n",
       "       [-1.27884157],\n",
       "       [ 1.19968029],\n",
       "       [-0.63780212],\n",
       "       [-0.69231958],\n",
       "       [ 0.39514073],\n",
       "       [ 0.5429511 ],\n",
       "       [-0.13403692],\n",
       "       [ 0.53142573],\n",
       "       [-0.15602938],\n",
       "       [-0.21598953],\n",
       "       [-0.63072122],\n",
       "       [ 0.77626988],\n",
       "       [-0.24971586],\n",
       "       [ 0.51427712],\n",
       "       [-0.27714686],\n",
       "       [ 0.1749329 ],\n",
       "       [-1.04934247],\n",
       "       [-1.32579171],\n",
       "       [-0.91722162],\n",
       "       [ 1.70981684],\n",
       "       [-0.46668736],\n",
       "       [-0.13869207],\n",
       "       [-1.30269407],\n",
       "       [-1.28931035],\n",
       "       [-0.79559526],\n",
       "       [-1.23162263],\n",
       "       [-1.05756388],\n",
       "       [-0.31411857],\n",
       "       [ 0.09928722],\n",
       "       [ 0.92209205],\n",
       "       [-0.46546702],\n",
       "       [ 1.81914749],\n",
       "       [-1.91904119],\n",
       "       [ 1.91123923],\n",
       "       [ 0.01885668],\n",
       "       [-0.20992653],\n",
       "       [-1.43764654],\n",
       "       [ 0.14264148],\n",
       "       [ 1.41188958],\n",
       "       [-0.11399046],\n",
       "       [-0.16356514],\n",
       "       [-1.25994477],\n",
       "       [ 0.11191006],\n",
       "       [ 0.72948811],\n",
       "       [ 0.19748896],\n",
       "       [ 1.01215754],\n",
       "       [-0.07179916],\n",
       "       [-0.17077487],\n",
       "       [ 2.1909012 ],\n",
       "       [ 0.49796976],\n",
       "       [ 0.04739636],\n",
       "       [ 1.78260753],\n",
       "       [-0.93392868],\n",
       "       [ 0.37983985],\n",
       "       [ 1.03295344],\n",
       "       [ 1.34989042],\n",
       "       [ 1.33943089],\n",
       "       [ 0.35682874],\n",
       "       [-0.69304257],\n",
       "       [ 0.15857477],\n",
       "       [ 0.30959969],\n",
       "       [ 0.66100389],\n",
       "       [ 0.26503843],\n",
       "       [ 1.587563  ],\n",
       "       [-0.23266062],\n",
       "       [ 1.18793   ],\n",
       "       [-0.14846717],\n",
       "       [-1.26927676],\n",
       "       [ 0.57541938],\n",
       "       [ 0.26339315],\n",
       "       [ 0.78191803],\n",
       "       [-0.39219377],\n",
       "       [-1.36447007],\n",
       "       [ 0.10001455],\n",
       "       [-0.95902101],\n",
       "       [ 0.02339024],\n",
       "       [ 0.31640995],\n",
       "       [-0.19098543],\n",
       "       [ 0.76376768],\n",
       "       [ 1.0536898 ],\n",
       "       [ 1.05519126],\n",
       "       [-1.55175311],\n",
       "       [-0.60619523],\n",
       "       [ 0.16140229],\n",
       "       [ 1.58084461],\n",
       "       [-0.42913766],\n",
       "       [ 0.76268804],\n",
       "       [-0.16437964],\n",
       "       [ 0.37320556]])"
      ]
     },
     "execution_count": 5,
     "metadata": {},
     "output_type": "execute_result"
    }
   ],
   "source": [
    "n"
   ]
  },
  {
   "cell_type": "code",
   "execution_count": 6,
   "id": "7a1647d3",
   "metadata": {},
   "outputs": [
    {
     "data": {
      "text/plain": [
       "Text(0, 0.5, 'y dataset')"
      ]
     },
     "execution_count": 6,
     "metadata": {},
     "output_type": "execute_result"
    },
    {
     "data": {
      "image/png": "[encoded data removed]",
      "text/plain": [
       "<Figure size 640x480 with 1 Axes>"
      ]
     },
     "metadata": {},
     "output_type": "display_data"
    }
   ],
   "source": [
    "# quadratic equation used y \n",
    "plt.scatter(X, y, color=\"g\")\n",
    "plt.xlabel('X datset')\n",
    "plt.ylabel('y dataset')"
   ]
  },
  {
   "cell_type": "code",
   "execution_count": 7,
   "id": "f7d96e21",
   "metadata": {},
   "outputs": [],
   "source": [
    "from sklearn.model_selection import train_test_split\n",
    "X_train, X_test, y_train, y_test = train_test_split(X, y, test_size=0.2, random_state=42)"
   ]
  },
  {
   "cell_type": "code",
   "execution_count": 8,
   "id": "03e4a028",
   "metadata": {},
   "outputs": [],
   "source": [
    "## Lets implement simple linar regression \n",
    "from sklearn.linear_model import LinearRegression\n",
    "regression = LinearRegression()"
   ]
  },
  {
   "cell_type": "code",
   "execution_count": 9,
   "id": "4bc3da12",
   "metadata": {},
   "outputs": [
    {
     "data": {
      "text/plain": [
       "array([[-4.81972350e-02],\n",
       "       [ 1.37018778e-01],\n",
       "       [ 3.45692774e-01],\n",
       "       [-4.99462649e-01],\n",
       "       [ 2.16928748e+00],\n",
       "       [ 1.16213984e+00],\n",
       "       [-1.25014687e+00],\n",
       "       [ 2.58525989e+00],\n",
       "       [ 2.00018039e-02],\n",
       "       [-2.91318899e+00],\n",
       "       [ 1.43735474e+00],\n",
       "       [ 2.19171743e+00],\n",
       "       [ 8.82193106e-01],\n",
       "       [-2.78803038e-01],\n",
       "       [ 8.43693696e-01],\n",
       "       [-2.14078933e+00],\n",
       "       [-1.51452466e+00],\n",
       "       [-2.78347303e-01],\n",
       "       [-2.52983920e+00],\n",
       "       [-7.02146183e-01],\n",
       "       [-1.82856704e-01],\n",
       "       [ 4.07804358e-01],\n",
       "       [-2.74411782e+00],\n",
       "       [-1.74338713e+00],\n",
       "       [-2.18907505e+00],\n",
       "       [-4.68857762e-01],\n",
       "       [ 6.71336378e-01],\n",
       "       [ 2.70722747e+00],\n",
       "       [-1.38174990e+00],\n",
       "       [-4.50280200e-01],\n",
       "       [ 2.10955724e+00],\n",
       "       [-6.07161717e-01],\n",
       "       [ 2.13708856e-01],\n",
       "       [-6.14448279e-01],\n",
       "       [-7.10087648e-01],\n",
       "       [ 2.84282335e+00],\n",
       "       [-2.47627288e+00],\n",
       "       [-5.20292021e-01],\n",
       "       [-2.25597511e+00],\n",
       "       [ 1.46622069e+00],\n",
       "       [-2.06249482e+00],\n",
       "       [-2.82469912e+00],\n",
       "       [-1.70895919e+00],\n",
       "       [-1.97978907e+00],\n",
       "       [ 1.48280705e+00],\n",
       "       [-1.43896052e-01],\n",
       "       [ 2.86332533e+00],\n",
       "       [-1.29533049e+00],\n",
       "       [ 4.48687863e-01],\n",
       "       [-1.71189953e+00],\n",
       "       [-2.62039382e+00],\n",
       "       [ 2.54760767e+00],\n",
       "       [ 1.25327570e-01],\n",
       "       [ 1.23641715e+00],\n",
       "       [ 1.89775690e+00],\n",
       "       [-1.62256273e-03],\n",
       "       [ 2.95871416e+00],\n",
       "       [ 1.27296665e-01],\n",
       "       [-2.60843554e+00],\n",
       "       [-1.10922888e+00],\n",
       "       [ 9.59953090e-01],\n",
       "       [ 2.90216254e-01],\n",
       "       [-2.37928402e+00],\n",
       "       [ 5.16395829e-01],\n",
       "       [ 1.73357853e+00],\n",
       "       [-2.64839547e+00],\n",
       "       [ 2.89160144e+00],\n",
       "       [ 2.17203308e+00],\n",
       "       [ 1.89988464e+00],\n",
       "       [ 4.18050932e-01],\n",
       "       [ 1.30885614e+00],\n",
       "       [ 1.10088403e-01],\n",
       "       [-1.20092319e-01],\n",
       "       [-1.66299119e+00],\n",
       "       [-1.61209033e+00],\n",
       "       [-2.73207832e+00],\n",
       "       [ 2.96262203e-01],\n",
       "       [-1.99719208e+00],\n",
       "       [-1.01799099e+00],\n",
       "       [ 2.86349782e+00]])"
      ]
     },
     "execution_count": 9,
     "metadata": {},
     "output_type": "execute_result"
    }
   ],
   "source": [
    "X_train\n"
   ]
  },
  {
   "cell_type": "code",
   "execution_count": 10,
   "id": "33280738",
   "metadata": {},
   "outputs": [
    {
     "data": {
      "text/html": [
       "<style>#sk-container-id-1 {color: black;}#sk-container-id-1 pre{padding: 0;}#sk-container-id-1 div.sk-toggleable {background-color: white;}#sk-container-id-1 label.sk-toggleable__label {cursor: pointer;display: block;width: 100%;margin-bottom: 0;padding: 0.3em;box-sizing: border-box;text-align: center;}#sk-container-id-1 label.sk-toggleable__label-arrow:before {content: \"▸\";float: left;margin-right: 0.25em;color: #696969;}#sk-container-id-1 label.sk-toggleable__label-arrow:hover:before {color: black;}#sk-container-id-1 div.sk-estimator:hover label.sk-toggleable__label-arrow:before {color: black;}#sk-container-id-1 div.sk-toggleable__content {max-height: 0;max-width: 0;overflow: hidden;text-align: left;background-color: #f0f8ff;}#sk-container-id-1 div.sk-toggleable__content pre {margin: 0.2em;color: black;border-radius: 0.25em;background-color: #f0f8ff;}#sk-container-id-1 input.sk-toggleable__control:checked~div.sk-toggleable__content {max-height: 200px;max-width: 100%;overflow: auto;}#sk-container-id-1 input.sk-toggleable__control:checked~label.sk-toggleable__label-arrow:before {content: \"▾\";}#sk-container-id-1 div.sk-estimator input.sk-toggleable__control:checked~label.sk-toggleable__label {background-color: #d4ebff;}#sk-container-id-1 div.sk-label input.sk-toggleable__control:checked~label.sk-toggleable__label {background-color: #d4ebff;}#sk-container-id-1 input.sk-hidden--visually {border: 0;clip: rect(1px 1px 1px 1px);clip: rect(1px, 1px, 1px, 1px);height: 1px;margin: -1px;overflow: hidden;padding: 0;position: absolute;width: 1px;}#sk-container-id-1 div.sk-estimator {font-family: monospace;background-color: #f0f8ff;border: 1px dotted black;border-radius: 0.25em;box-sizing: border-box;margin-bottom: 0.5em;}#sk-container-id-1 div.sk-estimator:hover {background-color: #d4ebff;}#sk-container-id-1 div.sk-parallel-item::after {content: \"\";width: 100%;border-bottom: 1px solid gray;flex-grow: 1;}#sk-container-id-1 div.sk-label:hover label.sk-toggleable__label {background-color: #d4ebff;}#sk-container-id-1 div.sk-serial::before {content: \"\";position: absolute;border-left: 1px solid gray;box-sizing: border-box;top: 0;bottom: 0;left: 50%;z-index: 0;}#sk-container-id-1 div.sk-serial {display: flex;flex-direction: column;align-items: center;background-color: white;padding-right: 0.2em;padding-left: 0.2em;position: relative;}#sk-container-id-1 div.sk-item {position: relative;z-index: 1;}#sk-container-id-1 div.sk-parallel {display: flex;align-items: stretch;justify-content: center;background-color: white;position: relative;}#sk-container-id-1 div.sk-item::before, #sk-container-id-1 div.sk-parallel-item::before {content: \"\";position: absolute;border-left: 1px solid gray;box-sizing: border-box;top: 0;bottom: 0;left: 50%;z-index: -1;}#sk-container-id-1 div.sk-parallel-item {display: flex;flex-direction: column;z-index: 1;position: relative;background-color: white;}#sk-container-id-1 div.sk-parallel-item:first-child::after {align-self: flex-end;width: 50%;}#sk-container-id-1 div.sk-parallel-item:last-child::after {align-self: flex-start;width: 50%;}#sk-container-id-1 div.sk-parallel-item:only-child::after {width: 0;}#sk-container-id-1 div.sk-dashed-wrapped {border: 1px dashed gray;margin: 0 0.4em 0.5em 0.4em;box-sizing: border-box;padding-bottom: 0.4em;background-color: white;}#sk-container-id-1 div.sk-label label {font-family: monospace;font-weight: bold;display: inline-block;line-height: 1.2em;}#sk-container-id-1 div.sk-label-container {text-align: center;}#sk-container-id-1 div.sk-container {/* jupyter's `normalize.less` sets `[hidden] { display: none; }` but bootstrap.min.css set `[hidden] { display: none !important; }` so we also need the `!important` here to be able to override the default hidden behavior on the sphinx rendered scikit-learn.org. See: https://github.com/scikit-learn/scikit-learn/issues/21755 */display: inline-block !important;position: relative;}#sk-container-id-1 div.sk-text-repr-fallback {display: none;}</style><div id=\"sk-container-id-1\" class=\"sk-top-container\"><div class=\"sk-text-repr-fallback\"><pre>LinearRegression()</pre><b>In a Jupyter environment, please rerun this cell to show the HTML representation or trust the notebook. <br />On GitHub, the HTML representation is unable to render, please try loading this page with nbviewer.org.</b></div><div class=\"sk-container\" hidden><div class=\"sk-item\"><div class=\"sk-estimator sk-toggleable\"><input class=\"sk-toggleable__control sk-hidden--visually\" id=\"sk-estimator-id-1\" type=\"checkbox\" checked><label for=\"sk-estimator-id-1\" class=\"sk-toggleable__label sk-toggleable__label-arrow\">LinearRegression</label><div class=\"sk-toggleable__content\"><pre>LinearRegression()</pre></div></div></div></div></div>"
      ],
      "text/plain": [
       "LinearRegression()"
      ]
     },
     "execution_count": 10,
     "metadata": {},
     "output_type": "execute_result"
    }
   ],
   "source": [
    "regression.fit(X_train, y_train)"
   ]
  },
  {
   "cell_type": "code",
   "execution_count": 11,
   "id": "cd369c49",
   "metadata": {},
   "outputs": [],
   "source": [
    "from sklearn.metrics import r2_score\n",
    "score = r2_score(y_test, regression.predict(X_test))"
   ]
  },
  {
   "cell_type": "code",
   "execution_count": 12,
   "id": "99a567e9",
   "metadata": {},
   "outputs": [
    {
     "data": {
      "text/plain": [
       "0.6776167571782783"
      ]
     },
     "execution_count": 12,
     "metadata": {},
     "output_type": "execute_result"
    }
   ],
   "source": [
    "score"
   ]
  },
  {
   "cell_type": "code",
   "execution_count": 13,
   "id": "24f1b8f9",
   "metadata": {},
   "outputs": [
    {
     "data": {
      "text/plain": [
       "Text(0, 0.5, 'y Dataset')"
      ]
     },
     "execution_count": 13,
     "metadata": {},
     "output_type": "execute_result"
    },
    {
     "data": {
      "image/png": "[encoded data removed]",
      "text/plain": [
       "<Figure size 640x480 with 1 Axes>"
      ]
     },
     "metadata": {},
     "output_type": "display_data"
    }
   ],
   "source": [
    "## Let's visualize this model\n",
    "plt.plot(X_train, regression.predict(X_train), color='r')\n",
    "plt.scatter(X_train, y_train)\n",
    "plt.xlabel(\"X Dataset\")\n",
    "plt.ylabel(\"y Dataset\")"
   ]
  },
  {
   "cell_type": "code",
   "execution_count": 14,
   "id": "b691f109",
   "metadata": {},
   "outputs": [],
   "source": [
    "# Let's aply plynomial transform \n",
    "from sklearn.preprocessing import PolynomialFeatures"
   ]
  },
  {
   "cell_type": "code",
   "execution_count": 15,
   "id": "f896e115",
   "metadata": {},
   "outputs": [],
   "source": [
    "poly = PolynomialFeatures(degree=2, include_bias = True)\n",
    "X_train_poly = poly.fit_transform(X_train)\n",
    "X_test_poly = poly.transform(X_test)"
   ]
  },
  {
   "cell_type": "code",
   "execution_count": 16,
   "id": "38230bec",
   "metadata": {},
   "outputs": [
    {
     "data": {
      "text/plain": [
       "array([[ 1.00000000e+00, -4.81972350e-02,  2.32297346e-03],\n",
       "       [ 1.00000000e+00,  1.37018778e-01,  1.87741456e-02],\n",
       "       [ 1.00000000e+00,  3.45692774e-01,  1.19503494e-01],\n",
       "       [ 1.00000000e+00, -4.99462649e-01,  2.49462937e-01],\n",
       "       [ 1.00000000e+00,  2.16928748e+00,  4.70580816e+00],\n",
       "       [ 1.00000000e+00,  1.16213984e+00,  1.35056901e+00],\n",
       "       [ 1.00000000e+00, -1.25014687e+00,  1.56286719e+00],\n",
       "       [ 1.00000000e+00,  2.58525989e+00,  6.68356871e+00],\n",
       "       [ 1.00000000e+00,  2.00018039e-02,  4.00072159e-04],\n",
       "       [ 1.00000000e+00, -2.91318899e+00,  8.48667009e+00],\n",
       "       [ 1.00000000e+00,  1.43735474e+00,  2.06598866e+00],\n",
       "       [ 1.00000000e+00,  2.19171743e+00,  4.80362531e+00],\n",
       "       [ 1.00000000e+00,  8.82193106e-01,  7.78264677e-01],\n",
       "       [ 1.00000000e+00, -2.78803038e-01,  7.77311340e-02],\n",
       "       [ 1.00000000e+00,  8.43693696e-01,  7.11819053e-01],\n",
       "       [ 1.00000000e+00, -2.14078933e+00,  4.58297893e+00],\n",
       "       [ 1.00000000e+00, -1.51452466e+00,  2.29378493e+00],\n",
       "       [ 1.00000000e+00, -2.78347303e-01,  7.74772210e-02],\n",
       "       [ 1.00000000e+00, -2.52983920e+00,  6.40008636e+00],\n",
       "       [ 1.00000000e+00, -7.02146183e-01,  4.93009263e-01],\n",
       "       [ 1.00000000e+00, -1.82856704e-01,  3.34365742e-02],\n",
       "       [ 1.00000000e+00,  4.07804358e-01,  1.66304395e-01],\n",
       "       [ 1.00000000e+00, -2.74411782e+00,  7.53018262e+00],\n",
       "       [ 1.00000000e+00, -1.74338713e+00,  3.03939867e+00],\n",
       "       [ 1.00000000e+00, -2.18907505e+00,  4.79204957e+00],\n",
       "       [ 1.00000000e+00, -4.68857762e-01,  2.19827601e-01],\n",
       "       [ 1.00000000e+00,  6.71336378e-01,  4.50692533e-01],\n",
       "       [ 1.00000000e+00,  2.70722747e+00,  7.32908056e+00],\n",
       "       [ 1.00000000e+00, -1.38174990e+00,  1.90923278e+00],\n",
       "       [ 1.00000000e+00, -4.50280200e-01,  2.02752258e-01],\n",
       "       [ 1.00000000e+00,  2.10955724e+00,  4.45023173e+00],\n",
       "       [ 1.00000000e+00, -6.07161717e-01,  3.68645350e-01],\n",
       "       [ 1.00000000e+00,  2.13708856e-01,  4.56714750e-02],\n",
       "       [ 1.00000000e+00, -6.14448279e-01,  3.77546688e-01],\n",
       "       [ 1.00000000e+00, -7.10087648e-01,  5.04224468e-01],\n",
       "       [ 1.00000000e+00,  2.84282335e+00,  8.08164461e+00],\n",
       "       [ 1.00000000e+00, -2.47627288e+00,  6.13192736e+00],\n",
       "       [ 1.00000000e+00, -5.20292021e-01,  2.70703788e-01],\n",
       "       [ 1.00000000e+00, -2.25597511e+00,  5.08942370e+00],\n",
       "       [ 1.00000000e+00,  1.46622069e+00,  2.14980312e+00],\n",
       "       [ 1.00000000e+00, -2.06249482e+00,  4.25388488e+00],\n",
       "       [ 1.00000000e+00, -2.82469912e+00,  7.97892511e+00],\n",
       "       [ 1.00000000e+00, -1.70895919e+00,  2.92054150e+00],\n",
       "       [ 1.00000000e+00, -1.97978907e+00,  3.91956476e+00],\n",
       "       [ 1.00000000e+00,  1.48280705e+00,  2.19871676e+00],\n",
       "       [ 1.00000000e+00, -1.43896052e-01,  2.07060738e-02],\n",
       "       [ 1.00000000e+00,  2.86332533e+00,  8.19863196e+00],\n",
       "       [ 1.00000000e+00, -1.29533049e+00,  1.67788109e+00],\n",
       "       [ 1.00000000e+00,  4.48687863e-01,  2.01320798e-01],\n",
       "       [ 1.00000000e+00, -1.71189953e+00,  2.93059999e+00],\n",
       "       [ 1.00000000e+00, -2.62039382e+00,  6.86646379e+00],\n",
       "       [ 1.00000000e+00,  2.54760767e+00,  6.49030486e+00],\n",
       "       [ 1.00000000e+00,  1.25327570e-01,  1.57069998e-02],\n",
       "       [ 1.00000000e+00,  1.23641715e+00,  1.52872738e+00],\n",
       "       [ 1.00000000e+00,  1.89775690e+00,  3.60148124e+00],\n",
       "       [ 1.00000000e+00, -1.62256273e-03,  2.63270981e-06],\n",
       "       [ 1.00000000e+00,  2.95871416e+00,  8.75398950e+00],\n",
       "       [ 1.00000000e+00,  1.27296665e-01,  1.62044410e-02],\n",
       "       [ 1.00000000e+00, -2.60843554e+00,  6.80393596e+00],\n",
       "       [ 1.00000000e+00, -1.10922888e+00,  1.23038872e+00],\n",
       "       [ 1.00000000e+00,  9.59953090e-01,  9.21509934e-01],\n",
       "       [ 1.00000000e+00,  2.90216254e-01,  8.42254742e-02],\n",
       "       [ 1.00000000e+00, -2.37928402e+00,  5.66099247e+00],\n",
       "       [ 1.00000000e+00,  5.16395829e-01,  2.66664652e-01],\n",
       "       [ 1.00000000e+00,  1.73357853e+00,  3.00529452e+00],\n",
       "       [ 1.00000000e+00, -2.64839547e+00,  7.01399857e+00],\n",
       "       [ 1.00000000e+00,  2.89160144e+00,  8.36135889e+00],\n",
       "       [ 1.00000000e+00,  2.17203308e+00,  4.71772772e+00],\n",
       "       [ 1.00000000e+00,  1.89988464e+00,  3.60956166e+00],\n",
       "       [ 1.00000000e+00,  4.18050932e-01,  1.74766582e-01],\n",
       "       [ 1.00000000e+00,  1.30885614e+00,  1.71310441e+00],\n",
       "       [ 1.00000000e+00,  1.10088403e-01,  1.21194565e-02],\n",
       "       [ 1.00000000e+00, -1.20092319e-01,  1.44221650e-02],\n",
       "       [ 1.00000000e+00, -1.66299119e+00,  2.76553971e+00],\n",
       "       [ 1.00000000e+00, -1.61209033e+00,  2.59883522e+00],\n",
       "       [ 1.00000000e+00, -2.73207832e+00,  7.46425197e+00],\n",
       "       [ 1.00000000e+00,  2.96262203e-01,  8.77712929e-02],\n",
       "       [ 1.00000000e+00, -1.99719208e+00,  3.98877619e+00],\n",
       "       [ 1.00000000e+00, -1.01799099e+00,  1.03630566e+00],\n",
       "       [ 1.00000000e+00,  2.86349782e+00,  8.19961977e+00]])"
      ]
     },
     "execution_count": 16,
     "metadata": {},
     "output_type": "execute_result"
    }
   ],
   "source": [
    "X_train_poly"
   ]
  },
  {
   "cell_type": "code",
   "execution_count": 17,
   "id": "365023c8",
   "metadata": {},
   "outputs": [
    {
     "data": {
      "text/plain": [
       "array([[ 1.00000000e+00, -3.27737207e-01,  1.07411677e-01],\n",
       "       [ 1.00000000e+00, -2.67329320e+00,  7.14649652e+00],\n",
       "       [ 1.00000000e+00, -7.35315845e-01,  5.40689393e-01],\n",
       "       [ 1.00000000e+00,  2.84618532e+00,  8.10077086e+00],\n",
       "       [ 1.00000000e+00,  7.08721039e-01,  5.02285512e-01],\n",
       "       [ 1.00000000e+00, -6.63071420e-01,  4.39663708e-01],\n",
       "       [ 1.00000000e+00,  2.60009990e+00,  6.76051948e+00],\n",
       "       [ 1.00000000e+00, -2.36546844e+00,  5.59544096e+00],\n",
       "       [ 1.00000000e+00,  2.09140169e+00,  4.37396102e+00],\n",
       "       [ 1.00000000e+00,  5.55410637e-01,  3.08480976e-01],\n",
       "       [ 1.00000000e+00, -2.30310141e+00,  5.30427611e+00],\n",
       "       [ 1.00000000e+00,  2.13766411e+00,  4.56960784e+00],\n",
       "       [ 1.00000000e+00,  2.42821456e+00,  5.89622596e+00],\n",
       "       [ 1.00000000e+00,  2.26485532e+00,  5.12956962e+00],\n",
       "       [ 1.00000000e+00,  1.78228387e+00,  3.17653579e+00],\n",
       "       [ 1.00000000e+00,  2.00222915e-02,  4.00892158e-04],\n",
       "       [ 1.00000000e+00, -1.94797772e+00,  3.79461721e+00],\n",
       "       [ 1.00000000e+00,  6.53415026e-01,  4.26951197e-01],\n",
       "       [ 1.00000000e+00, -1.39238195e+00,  1.93872749e+00],\n",
       "       [ 1.00000000e+00,  2.71427565e-01,  7.36729231e-02]])"
      ]
     },
     "execution_count": 17,
     "metadata": {},
     "output_type": "execute_result"
    }
   ],
   "source": [
    "X_test_poly"
   ]
  },
  {
   "cell_type": "code",
   "execution_count": 18,
   "id": "5b7f1f21",
   "metadata": {},
   "outputs": [
    {
     "data": {
      "text/plain": [
       "0.8074213835985657"
      ]
     },
     "execution_count": 18,
     "metadata": {},
     "output_type": "execute_result"
    }
   ],
   "source": [
    "from sklearn.metrics import r2_score\n",
    "regression = LinearRegression()\n",
    "regression.fit(X_train_poly, y_train)\n",
    "y_pred = regression.predict(X_test_poly)\n",
    "score = r2_score(y_test, y_pred)\n",
    "score"
   ]
  },
  {
   "cell_type": "code",
   "execution_count": 19,
   "id": "9f01e06f",
   "metadata": {},
   "outputs": [
    {
     "name": "stdout",
     "output_type": "stream",
     "text": [
      "[[0.         1.40012343 0.46980556]]\n"
     ]
    }
   ],
   "source": [
    "print(regression.coef_)"
   ]
  },
  {
   "cell_type": "code",
   "execution_count": 20,
   "id": "5ebd127a",
   "metadata": {},
   "outputs": [
    {
     "name": "stdout",
     "output_type": "stream",
     "text": [
      "[2.26384808]\n"
     ]
    }
   ],
   "source": [
    "print(regression.intercept_)"
   ]
  },
  {
   "cell_type": "code",
   "execution_count": 21,
   "id": "a033f750",
   "metadata": {},
   "outputs": [
    {
     "data": {
      "text/plain": [
       "<matplotlib.collections.PathCollection at 0x19eafb60190>"
      ]
     },
     "execution_count": 21,
     "metadata": {},
     "output_type": "execute_result"
    },
    {
     "data": {
      "image/png": "[encoded data removed]",
      "text/plain": [
       "<Figure size 640x480 with 1 Axes>"
      ]
     },
     "metadata": {},
     "output_type": "display_data"
    }
   ],
   "source": [
    "plt.scatter(X_train, regression.predict(X_train_poly))\n",
    "plt.scatter(X_train, y_train)"
   ]
  },
  {
   "cell_type": "code",
   "execution_count": 25,
   "id": "dcb2b81f",
   "metadata": {},
   "outputs": [
    {
     "data": {
      "text/plain": [
       "array([[ 1.00000000e+00, -3.00000000e+00,  9.00000000e+00],\n",
       "       [ 1.00000000e+00, -2.96984925e+00,  8.82000455e+00],\n",
       "       [ 1.00000000e+00, -2.93969849e+00,  8.64182723e+00],\n",
       "       [ 1.00000000e+00, -2.90954774e+00,  8.46546804e+00],\n",
       "       [ 1.00000000e+00, -2.87939698e+00,  8.29092700e+00],\n",
       "       [ 1.00000000e+00, -2.84924623e+00,  8.11820409e+00],\n",
       "       [ 1.00000000e+00, -2.81909548e+00,  7.94729931e+00],\n",
       "       [ 1.00000000e+00, -2.78894472e+00,  7.77821267e+00],\n",
       "       [ 1.00000000e+00, -2.75879397e+00,  7.61094417e+00],\n",
       "       [ 1.00000000e+00, -2.72864322e+00,  7.44549380e+00],\n",
       "       [ 1.00000000e+00, -2.69849246e+00,  7.28186157e+00],\n",
       "       [ 1.00000000e+00, -2.66834171e+00,  7.12004747e+00],\n",
       "       [ 1.00000000e+00, -2.63819095e+00,  6.96005151e+00],\n",
       "       [ 1.00000000e+00, -2.60804020e+00,  6.80187369e+00],\n",
       "       [ 1.00000000e+00, -2.57788945e+00,  6.64551400e+00],\n",
       "       [ 1.00000000e+00, -2.54773869e+00,  6.49097245e+00],\n",
       "       [ 1.00000000e+00, -2.51758794e+00,  6.33824903e+00],\n",
       "       [ 1.00000000e+00, -2.48743719e+00,  6.18734375e+00],\n",
       "       [ 1.00000000e+00, -2.45728643e+00,  6.03825661e+00],\n",
       "       [ 1.00000000e+00, -2.42713568e+00,  5.89098760e+00],\n",
       "       [ 1.00000000e+00, -2.39698492e+00,  5.74553673e+00],\n",
       "       [ 1.00000000e+00, -2.36683417e+00,  5.60190399e+00],\n",
       "       [ 1.00000000e+00, -2.33668342e+00,  5.46008939e+00],\n",
       "       [ 1.00000000e+00, -2.30653266e+00,  5.32009293e+00],\n",
       "       [ 1.00000000e+00, -2.27638191e+00,  5.18191460e+00],\n",
       "       [ 1.00000000e+00, -2.24623116e+00,  5.04555441e+00],\n",
       "       [ 1.00000000e+00, -2.21608040e+00,  4.91101235e+00],\n",
       "       [ 1.00000000e+00, -2.18592965e+00,  4.77828843e+00],\n",
       "       [ 1.00000000e+00, -2.15577889e+00,  4.64738264e+00],\n",
       "       [ 1.00000000e+00, -2.12562814e+00,  4.51829499e+00],\n",
       "       [ 1.00000000e+00, -2.09547739e+00,  4.39102548e+00],\n",
       "       [ 1.00000000e+00, -2.06532663e+00,  4.26557410e+00],\n",
       "       [ 1.00000000e+00, -2.03517588e+00,  4.14194086e+00],\n",
       "       [ 1.00000000e+00, -2.00502513e+00,  4.02012575e+00],\n",
       "       [ 1.00000000e+00, -1.97487437e+00,  3.90012878e+00],\n",
       "       [ 1.00000000e+00, -1.94472362e+00,  3.78194995e+00],\n",
       "       [ 1.00000000e+00, -1.91457286e+00,  3.66558925e+00],\n",
       "       [ 1.00000000e+00, -1.88442211e+00,  3.55104669e+00],\n",
       "       [ 1.00000000e+00, -1.85427136e+00,  3.43832226e+00],\n",
       "       [ 1.00000000e+00, -1.82412060e+00,  3.32741597e+00],\n",
       "       [ 1.00000000e+00, -1.79396985e+00,  3.21832782e+00],\n",
       "       [ 1.00000000e+00, -1.76381910e+00,  3.11105780e+00],\n",
       "       [ 1.00000000e+00, -1.73366834e+00,  3.00560592e+00],\n",
       "       [ 1.00000000e+00, -1.70351759e+00,  2.90197217e+00],\n",
       "       [ 1.00000000e+00, -1.67336683e+00,  2.80015656e+00],\n",
       "       [ 1.00000000e+00, -1.64321608e+00,  2.70015909e+00],\n",
       "       [ 1.00000000e+00, -1.61306533e+00,  2.60197975e+00],\n",
       "       [ 1.00000000e+00, -1.58291457e+00,  2.50561854e+00],\n",
       "       [ 1.00000000e+00, -1.55276382e+00,  2.41107548e+00],\n",
       "       [ 1.00000000e+00, -1.52261307e+00,  2.31835055e+00],\n",
       "       [ 1.00000000e+00, -1.49246231e+00,  2.22744375e+00],\n",
       "       [ 1.00000000e+00, -1.46231156e+00,  2.13835509e+00],\n",
       "       [ 1.00000000e+00, -1.43216080e+00,  2.05108457e+00],\n",
       "       [ 1.00000000e+00, -1.40201005e+00,  1.96563218e+00],\n",
       "       [ 1.00000000e+00, -1.37185930e+00,  1.88199793e+00],\n",
       "       [ 1.00000000e+00, -1.34170854e+00,  1.80018181e+00],\n",
       "       [ 1.00000000e+00, -1.31155779e+00,  1.72018383e+00],\n",
       "       [ 1.00000000e+00, -1.28140704e+00,  1.64200399e+00],\n",
       "       [ 1.00000000e+00, -1.25125628e+00,  1.56564228e+00],\n",
       "       [ 1.00000000e+00, -1.22110553e+00,  1.49109871e+00],\n",
       "       [ 1.00000000e+00, -1.19095477e+00,  1.41837327e+00],\n",
       "       [ 1.00000000e+00, -1.16080402e+00,  1.34746597e+00],\n",
       "       [ 1.00000000e+00, -1.13065327e+00,  1.27837681e+00],\n",
       "       [ 1.00000000e+00, -1.10050251e+00,  1.21110578e+00],\n",
       "       [ 1.00000000e+00, -1.07035176e+00,  1.14565289e+00],\n",
       "       [ 1.00000000e+00, -1.04020101e+00,  1.08201813e+00],\n",
       "       [ 1.00000000e+00, -1.01005025e+00,  1.02020151e+00],\n",
       "       [ 1.00000000e+00, -9.79899497e-01,  9.60203025e-01],\n",
       "       [ 1.00000000e+00, -9.49748744e-01,  9.02022676e-01],\n",
       "       [ 1.00000000e+00, -9.19597990e-01,  8.45660463e-01],\n",
       "       [ 1.00000000e+00, -8.89447236e-01,  7.91116386e-01],\n",
       "       [ 1.00000000e+00, -8.59296482e-01,  7.38390445e-01],\n",
       "       [ 1.00000000e+00, -8.29145729e-01,  6.87482639e-01],\n",
       "       [ 1.00000000e+00, -7.98994975e-01,  6.38392970e-01],\n",
       "       [ 1.00000000e+00, -7.68844221e-01,  5.91121436e-01],\n",
       "       [ 1.00000000e+00, -7.38693467e-01,  5.45668039e-01],\n",
       "       [ 1.00000000e+00, -7.08542714e-01,  5.02032777e-01],\n",
       "       [ 1.00000000e+00, -6.78391960e-01,  4.60215651e-01],\n",
       "       [ 1.00000000e+00, -6.48241206e-01,  4.20216661e-01],\n",
       "       [ 1.00000000e+00, -6.18090452e-01,  3.82035807e-01],\n",
       "       [ 1.00000000e+00, -5.87939698e-01,  3.45673089e-01],\n",
       "       [ 1.00000000e+00, -5.57788945e-01,  3.11128507e-01],\n",
       "       [ 1.00000000e+00, -5.27638191e-01,  2.78402061e-01],\n",
       "       [ 1.00000000e+00, -4.97487437e-01,  2.47493750e-01],\n",
       "       [ 1.00000000e+00, -4.67336683e-01,  2.18403576e-01],\n",
       "       [ 1.00000000e+00, -4.37185930e-01,  1.91131537e-01],\n",
       "       [ 1.00000000e+00, -4.07035176e-01,  1.65677634e-01],\n",
       "       [ 1.00000000e+00, -3.76884422e-01,  1.42041868e-01],\n",
       "       [ 1.00000000e+00, -3.46733668e-01,  1.20224237e-01],\n",
       "       [ 1.00000000e+00, -3.16582915e-01,  1.00224742e-01],\n",
       "       [ 1.00000000e+00, -2.86432161e-01,  8.20433827e-02],\n",
       "       [ 1.00000000e+00, -2.56281407e-01,  6.56801596e-02],\n",
       "       [ 1.00000000e+00, -2.26130653e-01,  5.11350723e-02],\n",
       "       [ 1.00000000e+00, -1.95979899e-01,  3.84081210e-02],\n",
       "       [ 1.00000000e+00, -1.65829146e-01,  2.74993056e-02],\n",
       "       [ 1.00000000e+00, -1.35678392e-01,  1.84086260e-02],\n",
       "       [ 1.00000000e+00, -1.05527638e-01,  1.11360824e-02],\n",
       "       [ 1.00000000e+00, -7.53768844e-02,  5.68167471e-03],\n",
       "       [ 1.00000000e+00, -4.52261307e-02,  2.04540289e-03],\n",
       "       [ 1.00000000e+00, -1.50753769e-02,  2.27266988e-04],\n",
       "       [ 1.00000000e+00,  1.50753769e-02,  2.27266988e-04],\n",
       "       [ 1.00000000e+00,  4.52261307e-02,  2.04540289e-03],\n",
       "       [ 1.00000000e+00,  7.53768844e-02,  5.68167471e-03],\n",
       "       [ 1.00000000e+00,  1.05527638e-01,  1.11360824e-02],\n",
       "       [ 1.00000000e+00,  1.35678392e-01,  1.84086260e-02],\n",
       "       [ 1.00000000e+00,  1.65829146e-01,  2.74993056e-02],\n",
       "       [ 1.00000000e+00,  1.95979899e-01,  3.84081210e-02],\n",
       "       [ 1.00000000e+00,  2.26130653e-01,  5.11350723e-02],\n",
       "       [ 1.00000000e+00,  2.56281407e-01,  6.56801596e-02],\n",
       "       [ 1.00000000e+00,  2.86432161e-01,  8.20433827e-02],\n",
       "       [ 1.00000000e+00,  3.16582915e-01,  1.00224742e-01],\n",
       "       [ 1.00000000e+00,  3.46733668e-01,  1.20224237e-01],\n",
       "       [ 1.00000000e+00,  3.76884422e-01,  1.42041868e-01],\n",
       "       [ 1.00000000e+00,  4.07035176e-01,  1.65677634e-01],\n",
       "       [ 1.00000000e+00,  4.37185930e-01,  1.91131537e-01],\n",
       "       [ 1.00000000e+00,  4.67336683e-01,  2.18403576e-01],\n",
       "       [ 1.00000000e+00,  4.97487437e-01,  2.47493750e-01],\n",
       "       [ 1.00000000e+00,  5.27638191e-01,  2.78402061e-01],\n",
       "       [ 1.00000000e+00,  5.57788945e-01,  3.11128507e-01],\n",
       "       [ 1.00000000e+00,  5.87939698e-01,  3.45673089e-01],\n",
       "       [ 1.00000000e+00,  6.18090452e-01,  3.82035807e-01],\n",
       "       [ 1.00000000e+00,  6.48241206e-01,  4.20216661e-01],\n",
       "       [ 1.00000000e+00,  6.78391960e-01,  4.60215651e-01],\n",
       "       [ 1.00000000e+00,  7.08542714e-01,  5.02032777e-01],\n",
       "       [ 1.00000000e+00,  7.38693467e-01,  5.45668039e-01],\n",
       "       [ 1.00000000e+00,  7.68844221e-01,  5.91121436e-01],\n",
       "       [ 1.00000000e+00,  7.98994975e-01,  6.38392970e-01],\n",
       "       [ 1.00000000e+00,  8.29145729e-01,  6.87482639e-01],\n",
       "       [ 1.00000000e+00,  8.59296482e-01,  7.38390445e-01],\n",
       "       [ 1.00000000e+00,  8.89447236e-01,  7.91116386e-01],\n",
       "       [ 1.00000000e+00,  9.19597990e-01,  8.45660463e-01],\n",
       "       [ 1.00000000e+00,  9.49748744e-01,  9.02022676e-01],\n",
       "       [ 1.00000000e+00,  9.79899497e-01,  9.60203025e-01],\n",
       "       [ 1.00000000e+00,  1.01005025e+00,  1.02020151e+00],\n",
       "       [ 1.00000000e+00,  1.04020101e+00,  1.08201813e+00],\n",
       "       [ 1.00000000e+00,  1.07035176e+00,  1.14565289e+00],\n",
       "       [ 1.00000000e+00,  1.10050251e+00,  1.21110578e+00],\n",
       "       [ 1.00000000e+00,  1.13065327e+00,  1.27837681e+00],\n",
       "       [ 1.00000000e+00,  1.16080402e+00,  1.34746597e+00],\n",
       "       [ 1.00000000e+00,  1.19095477e+00,  1.41837327e+00],\n",
       "       [ 1.00000000e+00,  1.22110553e+00,  1.49109871e+00],\n",
       "       [ 1.00000000e+00,  1.25125628e+00,  1.56564228e+00],\n",
       "       [ 1.00000000e+00,  1.28140704e+00,  1.64200399e+00],\n",
       "       [ 1.00000000e+00,  1.31155779e+00,  1.72018383e+00],\n",
       "       [ 1.00000000e+00,  1.34170854e+00,  1.80018181e+00],\n",
       "       [ 1.00000000e+00,  1.37185930e+00,  1.88199793e+00],\n",
       "       [ 1.00000000e+00,  1.40201005e+00,  1.96563218e+00],\n",
       "       [ 1.00000000e+00,  1.43216080e+00,  2.05108457e+00],\n",
       "       [ 1.00000000e+00,  1.46231156e+00,  2.13835509e+00],\n",
       "       [ 1.00000000e+00,  1.49246231e+00,  2.22744375e+00],\n",
       "       [ 1.00000000e+00,  1.52261307e+00,  2.31835055e+00],\n",
       "       [ 1.00000000e+00,  1.55276382e+00,  2.41107548e+00],\n",
       "       [ 1.00000000e+00,  1.58291457e+00,  2.50561854e+00],\n",
       "       [ 1.00000000e+00,  1.61306533e+00,  2.60197975e+00],\n",
       "       [ 1.00000000e+00,  1.64321608e+00,  2.70015909e+00],\n",
       "       [ 1.00000000e+00,  1.67336683e+00,  2.80015656e+00],\n",
       "       [ 1.00000000e+00,  1.70351759e+00,  2.90197217e+00],\n",
       "       [ 1.00000000e+00,  1.73366834e+00,  3.00560592e+00],\n",
       "       [ 1.00000000e+00,  1.76381910e+00,  3.11105780e+00],\n",
       "       [ 1.00000000e+00,  1.79396985e+00,  3.21832782e+00],\n",
       "       [ 1.00000000e+00,  1.82412060e+00,  3.32741597e+00],\n",
       "       [ 1.00000000e+00,  1.85427136e+00,  3.43832226e+00],\n",
       "       [ 1.00000000e+00,  1.88442211e+00,  3.55104669e+00],\n",
       "       [ 1.00000000e+00,  1.91457286e+00,  3.66558925e+00],\n",
       "       [ 1.00000000e+00,  1.94472362e+00,  3.78194995e+00],\n",
       "       [ 1.00000000e+00,  1.97487437e+00,  3.90012878e+00],\n",
       "       [ 1.00000000e+00,  2.00502513e+00,  4.02012575e+00],\n",
       "       [ 1.00000000e+00,  2.03517588e+00,  4.14194086e+00],\n",
       "       [ 1.00000000e+00,  2.06532663e+00,  4.26557410e+00],\n",
       "       [ 1.00000000e+00,  2.09547739e+00,  4.39102548e+00],\n",
       "       [ 1.00000000e+00,  2.12562814e+00,  4.51829499e+00],\n",
       "       [ 1.00000000e+00,  2.15577889e+00,  4.64738264e+00],\n",
       "       [ 1.00000000e+00,  2.18592965e+00,  4.77828843e+00],\n",
       "       [ 1.00000000e+00,  2.21608040e+00,  4.91101235e+00],\n",
       "       [ 1.00000000e+00,  2.24623116e+00,  5.04555441e+00],\n",
       "       [ 1.00000000e+00,  2.27638191e+00,  5.18191460e+00],\n",
       "       [ 1.00000000e+00,  2.30653266e+00,  5.32009293e+00],\n",
       "       [ 1.00000000e+00,  2.33668342e+00,  5.46008939e+00],\n",
       "       [ 1.00000000e+00,  2.36683417e+00,  5.60190399e+00],\n",
       "       [ 1.00000000e+00,  2.39698492e+00,  5.74553673e+00],\n",
       "       [ 1.00000000e+00,  2.42713568e+00,  5.89098760e+00],\n",
       "       [ 1.00000000e+00,  2.45728643e+00,  6.03825661e+00],\n",
       "       [ 1.00000000e+00,  2.48743719e+00,  6.18734375e+00],\n",
       "       [ 1.00000000e+00,  2.51758794e+00,  6.33824903e+00],\n",
       "       [ 1.00000000e+00,  2.54773869e+00,  6.49097245e+00],\n",
       "       [ 1.00000000e+00,  2.57788945e+00,  6.64551400e+00],\n",
       "       [ 1.00000000e+00,  2.60804020e+00,  6.80187369e+00],\n",
       "       [ 1.00000000e+00,  2.63819095e+00,  6.96005151e+00],\n",
       "       [ 1.00000000e+00,  2.66834171e+00,  7.12004747e+00],\n",
       "       [ 1.00000000e+00,  2.69849246e+00,  7.28186157e+00],\n",
       "       [ 1.00000000e+00,  2.72864322e+00,  7.44549380e+00],\n",
       "       [ 1.00000000e+00,  2.75879397e+00,  7.61094417e+00],\n",
       "       [ 1.00000000e+00,  2.78894472e+00,  7.77821267e+00],\n",
       "       [ 1.00000000e+00,  2.81909548e+00,  7.94729931e+00],\n",
       "       [ 1.00000000e+00,  2.84924623e+00,  8.11820409e+00],\n",
       "       [ 1.00000000e+00,  2.87939698e+00,  8.29092700e+00],\n",
       "       [ 1.00000000e+00,  2.90954774e+00,  8.46546804e+00],\n",
       "       [ 1.00000000e+00,  2.93969849e+00,  8.64182723e+00],\n",
       "       [ 1.00000000e+00,  2.96984925e+00,  8.82000455e+00],\n",
       "       [ 1.00000000e+00,  3.00000000e+00,  9.00000000e+00]])"
      ]
     },
     "execution_count": 25,
     "metadata": {},
     "output_type": "execute_result"
    }
   ],
   "source": [
    "# Prediction of new dataset\n",
    "X_new = np.linspace(-3, 3, 200).reshape(200, 1)\n",
    "X_new_poly = poly.transform(X_new)\n",
    "X_new_poly"
   ]
  },
  {
   "cell_type": "code",
   "execution_count": 29,
   "id": "06306768",
   "metadata": {},
   "outputs": [
    {
     "data": {
      "image/png": "[encoded data removed]",
      "text/plain": [
       "<Figure size 640x480 with 1 Axes>"
      ]
     },
     "metadata": {},
     "output_type": "display_data"
    }
   ],
   "source": [
    "y_new = regression.predict(X_new_poly)\n",
    "plt.plot(X_new, y_new, \"r-\", linewidth=2, label=\"New Predictions\")\n",
    "plt.plot(X_train, y_train, \"b.\", label=\"Training Points\")\n",
    "plt.plot(X_test, y_test, \"g.\", label=\"Testing Points\")\n",
    "plt.xlabel(\"X\")\n",
    "plt.ylabel(\"Y\")\n",
    "plt.legend()\n",
    "plt.show()"
   ]
  },
  {
   "cell_type": "code",
   "execution_count": null,
   "id": "2c12a03b",
   "metadata": {},
   "outputs": [],
   "source": []
  },
  {
   "cell_type": "code",
   "execution_count": null,
   "id": "806dcd75",
   "metadata": {},
   "outputs": [],
   "source": []
  }
 ],
 "metadata": {
  "kernelspec": {
   "display_name": "Python 3 (ipykernel)",
   "language": "python",
   "name": "python3"
  },
  "language_info": {
   "codemirror_mode": {
    "name": "ipython",
    "version": 3
   },
   "file_extension": ".py",
   "mimetype": "text/x-python",
   "name": "python",
   "nbconvert_exporter": "python",
   "pygments_lexer": "ipython3",
   "version": "3.11.5"
  }
 },
 "nbformat": 4,
 "nbformat_minor": 5
}
